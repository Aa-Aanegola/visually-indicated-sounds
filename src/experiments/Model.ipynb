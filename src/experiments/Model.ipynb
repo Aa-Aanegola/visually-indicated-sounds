{
 "cells": [
  {
   "cell_type": "code",
   "execution_count": 1,
   "metadata": {},
   "outputs": [],
   "source": [
    "import torch\n",
    "from torchvision.models import vgg19\n",
    "import torch.nn as nn"
   ]
  },
  {
   "cell_type": "code",
   "execution_count": 10,
   "metadata": {},
   "outputs": [],
   "source": [
    "class V2A(torch.nn.Module):\n",
    "    def __init__(self):\n",
    "        super().__init__()\n",
    "        self.encoder = vgg19(pretrained=True)\n",
    "        self.rnn = nn.LSTMCell(input_size=2000, hidden_size=256)\n",
    "        self.sound_features = nn.Linear(in_features=256, out_features=42)\n",
    "    \n",
    "    def forward(self, rgb, st):\n",
    "        hn = None\n",
    "        cn = None\n",
    "        sounds = []\n",
    "        for t in range(rgb.shape[1]):\n",
    "            cnn_feat_rgb = self.encoder(rgb[:, t, :, :, :])\n",
    "            cnn_feat_st = self.encoder(st[:, t, :, :, :])\n",
    "            comb_feat = torch.concat([cnn_feat_rgb, cnn_feat_st], dim=1)\n",
    "            if hn is None:\n",
    "                hn, cn = self.rnn(comb_feat)\n",
    "            else:\n",
    "                hn, cn = self.rnn(comb_feat, (hn, cn))\n",
    "            sound_features = self.sound_features(hn)\n",
    "            print(sound_features.shape)\n",
    "            sounds.append(sound_features)\n",
    "        return torch.tensor(sounds)"
   ]
  },
  {
   "cell_type": "code",
   "execution_count": 11,
   "metadata": {},
   "outputs": [
    {
     "name": "stderr",
     "output_type": "stream",
     "text": [
      "/home2/aa_aanegola/miniconda3/envs/cv/lib/python3.9/site-packages/torchvision/models/_utils.py:208: UserWarning: The parameter 'pretrained' is deprecated since 0.13 and may be removed in the future, please use 'weights' instead.\n",
      "  warnings.warn(\n",
      "/home2/aa_aanegola/miniconda3/envs/cv/lib/python3.9/site-packages/torchvision/models/_utils.py:223: UserWarning: Arguments other than a weight enum or `None` for 'weights' are deprecated since 0.13 and may be removed in the future. The current behavior is equivalent to passing `weights=VGG19_Weights.IMAGENET1K_V1`. You can also use `weights=VGG19_Weights.DEFAULT` to get the most up-to-date weights.\n",
      "  warnings.warn(msg)\n"
     ]
    }
   ],
   "source": [
    "model = V2A()"
   ]
  },
  {
   "cell_type": "code",
   "execution_count": 12,
   "metadata": {},
   "outputs": [
    {
     "name": "stdout",
     "output_type": "stream",
     "text": [
      "torch.Size([4, 42])\n",
      "torch.Size([4, 42])\n",
      "torch.Size([4, 42])\n",
      "torch.Size([4, 42])\n",
      "torch.Size([4, 42])\n",
      "torch.Size([4, 42])\n",
      "torch.Size([4, 42])\n",
      "torch.Size([4, 42])\n"
     ]
    },
    {
     "ename": "",
     "evalue": "",
     "output_type": "error",
     "traceback": [
      "\u001b[1;31mCanceled future for execute_request message before replies were done"
     ]
    },
    {
     "ename": "",
     "evalue": "",
     "output_type": "error",
     "traceback": [
      "\u001b[1;31mThe Kernel crashed while executing code in the the current cell or a previous cell. Please review the code in the cell(s) to identify a possible cause of the failure. Click <a href='https://aka.ms/vscodeJupyterKernelCrash'>here</a> for more info. View Jupyter <a href='command:jupyter.viewOutput'>log</a> for further details."
     ]
    }
   ],
   "source": [
    "rgb = torch.zeros((4, 45, 3, 224, 224))\n",
    "st = torch.zeros((4, 45, 3, 224, 224))\n",
    "model(rgb, st)"
   ]
  },
  {
   "cell_type": "code",
   "execution_count": null,
   "metadata": {},
   "outputs": [],
   "source": []
  }
 ],
 "metadata": {
  "interpreter": {
   "hash": "9e09ca25bb85b61ef3e58d58363cb7bc503708bb75f3feaddeaa06a257530891"
  },
  "kernelspec": {
   "display_name": "Python 3.9.16 ('cv')",
   "language": "python",
   "name": "python3"
  },
  "language_info": {
   "codemirror_mode": {
    "name": "ipython",
    "version": 3
   },
   "file_extension": ".py",
   "mimetype": "text/x-python",
   "name": "python",
   "nbconvert_exporter": "python",
   "pygments_lexer": "ipython3",
   "version": "3.9.16"
  },
  "orig_nbformat": 4
 },
 "nbformat": 4,
 "nbformat_minor": 2
}
