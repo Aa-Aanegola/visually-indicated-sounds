{
 "cells": [
  {
   "cell_type": "code",
   "execution_count": 1,
   "metadata": {},
   "outputs": [],
   "source": [
    "import sys\n",
    "\n",
    "sys.path.append('../..')\n",
    "\n",
    "import torch\n",
    "import pytorch_lightning as pl\n",
    "from pytorch_lightning.utilities.model_summary import ModelSummary\n",
    "\n",
    "from torch.utils.data import DataLoader, Dataset\n",
    "import torch.nn as nn\n",
    "import torch.optim as optim\n",
    "\n",
    "from pytorch_lightning.callbacks import ModelCheckpoint\n",
    "\n",
    "import matplotlib.pyplot as plt\n",
    "import numpy as np\n",
    "import glob\n",
    "import os\n",
    "import pickle\n",
    "import random\n",
    "from tqdm import tqdm\n",
    "from scipy.signal import resample\n",
    "\n",
    "from VISTorchUtils import WaveLoss\n",
    "\n",
    "from IPython.display import Audio"
   ]
  },
  {
   "cell_type": "code",
   "execution_count": 2,
   "metadata": {},
   "outputs": [],
   "source": [
    "class AudioAutoEncoderConv(pl.LightningModule):\n",
    "    def __init__(self, input_size=48000):\n",
    "        super().__init__()\n",
    "\n",
    "        self.encoder = nn.Sequential(\n",
    "            nn.Conv1d(1, 16, 512, stride=16, padding=8, padding_mode='replicate'),\n",
    "            nn.BatchNorm1d(16),\n",
    "            nn.RReLU(), \n",
    "            nn.Conv1d(16, 64, 256, stride=4, padding=2, padding_mode='replicate'),\n",
    "            nn.BatchNorm1d(64), \n",
    "            nn.RReLU(), \n",
    "            nn.Conv1d(64, 8, 64, stride=2, padding=1, padding_mode='replicate'),\n",
    "            nn.BatchNorm1d(8))        \n",
    "        \n",
    "        self.decoder = nn.Sequential(\n",
    "            nn.ConvTranspose1d(8, 64, 64, stride=2, padding=1),\n",
    "            nn.BatchNorm1d(64),\n",
    "            nn.RReLU(), \n",
    "            nn.ConvTranspose1d(64, 16, 256, stride=4, padding=1),\n",
    "            nn.BatchNorm1d(16),\n",
    "            nn.RReLU(), \n",
    "            nn.ConvTranspose1d(16, 1, 512, stride=16, padding=8))\n",
    "        \n",
    "        # self.loss_fn = nn.MSELoss()\n",
    "        self.loss_fn = WaveLoss()\n",
    "        \n",
    "    def forward(self, wav):\n",
    "        emb = self.encoder(wav.unsqueeze(1))\n",
    "        reconstructed = self.decoder(emb).squeeze()\n",
    "        return reconstructed\n",
    "        \n",
    "    def get_encoding(self, wav):\n",
    "        return self.encoder(wav.unsqueeze(1)).flatten(start_dim=1)\n",
    "\n",
    "    def get_reconstructed(self, emb):\n",
    "        return self.decoder(emb.reshape(-1, 8, 310)).squeeze()\n",
    "    \n",
    "    def training_step(self, batch, batch_idx):\n",
    "        out = self(batch)\n",
    "        loss = self.loss_fn(out, batch)\n",
    "        self.log('train_loss', loss, on_step=True, on_epoch=True, prog_bar=True, logger=True)\n",
    "        return loss\n",
    "    \n",
    "    def validation_step(self, batch, batch_idx):\n",
    "        out = self(batch)\n",
    "        loss = self.loss_fn(out, batch)\n",
    "        self.log('val_loss',  loss, on_step=True, on_epoch=True, prog_bar=True, logger=True)\n",
    "        return loss\n",
    "    \n",
    "    def configure_optimizers(self):\n",
    "        optimizer = optim.AdamW(self.parameters(), 1e-3)\n",
    "        return optimizer "
   ]
  },
  {
   "cell_type": "code",
   "execution_count": 3,
   "metadata": {},
   "outputs": [],
   "source": [
    "class AudioDataset(Dataset):\n",
    "    def __init__(self, root: str, sr: int=48000):\n",
    "        self.root = root\n",
    "        self.files = glob.glob(os.path.join(self.root, '*.pkl'))\n",
    "        self.sr = sr\n",
    "        \n",
    "    def __len__(self):\n",
    "        return len(self.files)\n",
    "    \n",
    "    def __getitem__(self, idx):\n",
    "        with open(self.files[idx], 'rb') as f:\n",
    "            wav = pickle.load(f)\n",
    "\n",
    "        while wav.shape[0] == 0:\n",
    "            with open(random.choice(self.files), 'rb') as f:\n",
    "                wav = pickle.load(f)\n",
    "\n",
    "        downsampled = resample(wav, self.sr)\n",
    "        downsampled = downsampled / np.max(np.abs(downsampled))\n",
    "\n",
    "        return torch.tensor(downsampled, dtype=torch.float32)"
   ]
  },
  {
   "cell_type": "code",
   "execution_count": 4,
   "metadata": {},
   "outputs": [],
   "source": [
    "sampling_rate = 48000"
   ]
  },
  {
   "cell_type": "code",
   "execution_count": 5,
   "metadata": {},
   "outputs": [],
   "source": [
    "trainDataset = AudioDataset('../../../../audio_data/train/', sr=sampling_rate)\n",
    "valDataset = AudioDataset('../../../../audio_data/test/', sr=sampling_rate)"
   ]
  },
  {
   "cell_type": "code",
   "execution_count": 6,
   "metadata": {},
   "outputs": [],
   "source": [
    "BATCH_SIZE = 16\n",
    "NUM_WORKERS = 4"
   ]
  },
  {
   "cell_type": "code",
   "execution_count": 7,
   "metadata": {},
   "outputs": [],
   "source": [
    "# trainDataLoader = DataLoader(trainDataset, batch_size=BATCH_SIZE, shuffle=True)\n",
    "# valDataLoader = DataLoader(valDataset, batch_size=BATCH_SIZE, shuffle=False)\n",
    "trainDataLoader = DataLoader(trainDataset, batch_size=BATCH_SIZE, shuffle=True, num_workers=NUM_WORKERS, pin_memory=True)\n",
    "valDataLoader = DataLoader(valDataset, batch_size=BATCH_SIZE, shuffle=False, num_workers=NUM_WORKERS, pin_memory=True)"
   ]
  },
  {
   "cell_type": "code",
   "execution_count": 8,
   "metadata": {},
   "outputs": [
    {
     "name": "stdout",
     "output_type": "stream",
     "text": [
      "torch.Size([16, 48000]) torch.float32\n"
     ]
    },
    {
     "data": {
      "image/png": "[encoded data removed]",
      "text/plain": [
       "<Figure size 640x480 with 1 Axes>"
      ]
     },
     "metadata": {},
     "output_type": "display_data"
    }
   ],
   "source": [
    "wavs = next(iter(trainDataLoader))\n",
    "print(wavs.shape, wavs.dtype)\n",
    "wav = wavs[0].detach().numpy()\n",
    "plt.plot(wav)\n",
    "plt.show()"
   ]
  },
  {
   "cell_type": "code",
   "execution_count": 9,
   "metadata": {},
   "outputs": [
    {
     "data": {
      "text/plain": [
       "  | Name    | Type       | Params\n",
       "---------------------------------------\n",
       "0 | encoder | Sequential | 303 K \n",
       "1 | decoder | Sequential | 303 K \n",
       "2 | loss_fn | WaveLoss   | 0     \n",
       "---------------------------------------\n",
       "606 K     Trainable params\n",
       "0         Non-trainable params\n",
       "606 K     Total params\n",
       "2.427     Total estimated model params size (MB)"
      ]
     },
     "execution_count": 9,
     "metadata": {},
     "output_type": "execute_result"
    }
   ],
   "source": [
    "model = AudioAutoEncoderConv(input_size=sampling_rate)\n",
    "ModelSummary(model)"
   ]
  },
  {
   "cell_type": "code",
   "execution_count": 10,
   "metadata": {},
   "outputs": [
    {
     "name": "stderr",
     "output_type": "stream",
     "text": [
      "/home2/arihanth.srikar/miniconda3/envs/torch/lib/python3.9/site-packages/lightning_fabric/plugins/environments/slurm.py:165: PossibleUserWarning: The `srun` command is available on your system but is not used. HINT: If your intention is to run Lightning on SLURM, prepend your python command with `srun` like so: srun python /home2/arihanth.srikar/miniconda3/envs/torch/lib/pyt ...\n",
      "  rank_zero_warn(\n",
      "GPU available: True (cuda), used: True\n",
      "TPU available: False, using: 0 TPU cores\n",
      "IPU available: False, using: 0 IPUs\n",
      "HPU available: False, using: 0 HPUs\n"
     ]
    }
   ],
   "source": [
    "logger = pl.loggers.TensorBoardLogger('tb_logs', name='audio_autoencoder')\n",
    "checkpoint_callback = ModelCheckpoint(\n",
    "    save_top_k=1,\n",
    "    monitor=\"val_loss\",\n",
    "    mode=\"min\",\n",
    "    dirpath=\"model_weights\",\n",
    "    filename=\"audioautoencoderconv-model-{epoch:02d}-{val_loss:.2f}\",\n",
    ")\n",
    "trainer = pl.Trainer(accelerator='gpu', devices=1,\n",
    "                     max_epochs=100, logger=logger,\n",
    "                     callbacks=[checkpoint_callback])\n",
    "torch.set_float32_matmul_precision('medium')"
   ]
  },
  {
   "cell_type": "code",
   "execution_count": 11,
   "metadata": {},
   "outputs": [
    {
     "name": "stderr",
     "output_type": "stream",
     "text": [
      "/home2/arihanth.srikar/miniconda3/envs/torch/lib/python3.9/site-packages/lightning_fabric/plugins/environments/slurm.py:165: PossibleUserWarning: The `srun` command is available on your system but is not used. HINT: If your intention is to run Lightning on SLURM, prepend your python command with `srun` like so: srun python /home2/arihanth.srikar/miniconda3/envs/torch/lib/pyt ...\n",
      "  rank_zero_warn(\n",
      "/home2/arihanth.srikar/miniconda3/envs/torch/lib/python3.9/site-packages/pytorch_lightning/callbacks/model_checkpoint.py:612: UserWarning: Checkpoint directory /home2/arihanth.srikar/cv/visually-indicated-sounds/src/experiments/AudioAutoEncoder/model_weights exists and is not empty.\n",
      "  rank_zero_warn(f\"Checkpoint directory {dirpath} exists and is not empty.\")\n",
      "LOCAL_RANK: 0 - CUDA_VISIBLE_DEVICES: [0]\n",
      "\n",
      "  | Name    | Type       | Params\n",
      "---------------------------------------\n",
      "0 | encoder | Sequential | 303 K \n",
      "1 | decoder | Sequential | 303 K \n",
      "2 | loss_fn | WaveLoss   | 0     \n",
      "---------------------------------------\n",
      "606 K     Trainable params\n",
      "0         Non-trainable params\n",
      "606 K     Total params\n",
      "2.427     Total estimated model params size (MB)\n"
     ]
    },
    {
     "name": "stdout",
     "output_type": "stream",
     "text": [
      "Epoch 96:  22%|██▏       | 288/1292 [00:04<00:14, 68.04it/s, v_num=6, train_loss_step=14.80, val_loss_step=15.70, val_loss_epoch=15.70, train_loss_epoch=17.60] "
     ]
    }
   ],
   "source": [
    "trainer.fit(model, trainDataLoader, valDataLoader)"
   ]
  },
  {
   "cell_type": "code",
   "execution_count": null,
   "metadata": {},
   "outputs": [],
   "source": [
    "# model = AudioAutoEncoderConv(input_size=sampling_rate)\n",
    "# model = model.load_from_checkpoint('./model_weights/audioautoencoderconv-model-epoch=02-val_loss=0.00.ckpt')"
   ]
  },
  {
   "cell_type": "code",
   "execution_count": null,
   "metadata": {},
   "outputs": [],
   "source": [
    "wavs = next(iter(trainDataLoader))\n",
    "wavs_pred = model(wavs)"
   ]
  },
  {
   "cell_type": "code",
   "execution_count": null,
   "metadata": {},
   "outputs": [],
   "source": [
    "fig, axs = plt.subplots(nrows=1, ncols=2, figsize=(10, 5))\n",
    "\n",
    "axs[0].set_title('Ground Truth')\n",
    "axs[0].plot(wavs[0].detach().cpu())\n",
    "axs[1].set_title('Prediction')\n",
    "axs[1].plot(wavs_pred[0].squeeze().detach().cpu())\n",
    "plt.show()"
   ]
  },
  {
   "cell_type": "code",
   "execution_count": null,
   "metadata": {},
   "outputs": [],
   "source": [
    "Audio(wavs[0].detach().cpu(), rate=sampling_rate)"
   ]
  },
  {
   "cell_type": "code",
   "execution_count": null,
   "metadata": {},
   "outputs": [],
   "source": [
    "Audio(wavs_pred[0].squeeze().detach().cpu(), rate=sampling_rate)"
   ]
  },
  {
   "cell_type": "code",
   "execution_count": null,
   "metadata": {},
   "outputs": [],
   "source": [
    "wavs_fft = torch.fft.rfftn(wavs)\n",
    "wavs_fft = torch.view_as_real(wavs_fft).mean(2)\n",
    "\n",
    "wavs_pred_fft = torch.fft.rfftn(wavs_pred)\n",
    "wavs_pred_fft = torch.view_as_real(wavs_pred_fft).mean(2)"
   ]
  },
  {
   "cell_type": "code",
   "execution_count": null,
   "metadata": {},
   "outputs": [],
   "source": [
    "fig, axs = plt.subplots(nrows=1, ncols=2, figsize=(10, 5))\n",
    "\n",
    "axs[0].set_title('Ground Truth')\n",
    "axs[0].plot(wavs_fft[0].detach().cpu())\n",
    "axs[1].set_title('Prediction')\n",
    "axs[1].plot(wavs_pred_fft[0].squeeze().detach().cpu())\n",
    "plt.show()"
   ]
  },
  {
   "cell_type": "code",
   "execution_count": null,
   "metadata": {},
   "outputs": [],
   "source": []
  }
 ],
 "metadata": {
  "kernelspec": {
   "display_name": "cv",
   "language": "python",
   "name": "python3"
  },
  "language_info": {
   "codemirror_mode": {
    "name": "ipython",
    "version": 3
   },
   "file_extension": ".py",
   "mimetype": "text/x-python",
   "name": "python",
   "nbconvert_exporter": "python",
   "pygments_lexer": "ipython3",
   "version": "3.9.16"
  },
  "orig_nbformat": 4
 },
 "nbformat": 4,
 "nbformat_minor": 2
}
