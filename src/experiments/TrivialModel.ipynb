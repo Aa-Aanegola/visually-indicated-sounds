{
 "cells": [
  {
   "attachments": {},
   "cell_type": "markdown",
   "metadata": {},
   "source": [
    "# Trivial Model Approach\n",
    "\n",
    "Every Spacetime frame is passed to a pretrained Image Classifier (ResNet50), and its embedding is extracted. These embeddings are stacked along the temporal axis and fed into an LSTM. The output of a single LSTM cell is a 42 vector, which are again stacked along the temporal axis to create a cochleagram. Reconstruction loss is computed between the predicted cochleagram and the true cochleagram and the loss is backpropagated to train the network."
   ]
  },
  {
   "cell_type": "code",
   "execution_count": 1,
   "metadata": {},
   "outputs": [],
   "source": [
    "import sys\n",
    "\n",
    "sys.path.append('..')\n",
    "\n",
    "import torch\n",
    "import torch.nn as nn\n",
    "import torch.optim as optim\n",
    "import pytorch_lightning as pl\n",
    "\n",
    "from torch.utils.data import DataLoader\n",
    "from torchvision.models import resnet18, ResNet18_Weights\n",
    "\n",
    "from VISTorchUtils import VISDataset, VISLoss\n",
    "from VISDataPoint import VISDataPoint\n",
    "from utils import visCollate"
   ]
  },
  {
   "cell_type": "code",
   "execution_count": 2,
   "metadata": {},
   "outputs": [],
   "source": [
    "trainDataset = VISDataset('/scratch/vis_data/train')\n",
    "valDataset = VISDataset('/scratch/vis_data/test')"
   ]
  },
  {
   "cell_type": "code",
   "execution_count": 3,
   "metadata": {},
   "outputs": [],
   "source": [
    "trainDataLoader = DataLoader(trainDataset, batch_size=2, collate_fn=visCollate, num_workers=4)\n",
    "valDataLoader = DataLoader(valDataset, batch_size=2, collate_fn=visCollate, num_workers=4)"
   ]
  },
  {
   "cell_type": "code",
   "execution_count": 4,
   "metadata": {},
   "outputs": [],
   "source": [
    "class VISTrivialModel(pl.LightningModule):\n",
    "\n",
    "    def __init__(self, outputSize:int):\n",
    "        super().__init__()\n",
    "        self.featureExtractor = resnet18(ResNet18_Weights.DEFAULT)\n",
    "        self.featureExtractor.fc = nn.Identity()\n",
    "\n",
    "        self.lstm = nn.LSTM(1024, 1024, batch_first=True)\n",
    "        self.fc = nn.Linear(1024, outputSize)\n",
    "\n",
    "\n",
    "    def forward(self, stFrames, frame0):\n",
    "\n",
    "        # stFrames: batchx45x224x224x3\n",
    "        # frame0: batchx224x224x3\n",
    "\n",
    "        stFrameFeatures = []\n",
    "        for i in range(stFrames.shape[1]):\n",
    "            currStFrame = stFrames[:,i,:,:,:].squeeze(1)\n",
    "            currStFrameFeatures = self.featureExtractor(currStFrame)\n",
    "            stFrameFeatures.append(currStFrameFeatures)\n",
    "        stFrameFeatures = torch.stack(stFrameFeatures, dim=1)\n",
    "\n",
    "        frame0Features = self.featureExtractor(frame0).unsqueeze(1).repeat(1, stFrames.shape[1], 1)\n",
    "        X = torch.cat([stFrameFeatures, frame0Features], dim=2)\n",
    "        \n",
    "        # X is the input to the LSTM -> batchx45x1024\n",
    "        X, _ = self.lstm(X)\n",
    "\n",
    "        # Pass the LSTM output of each timestep through a linear layer\n",
    "        out = []\n",
    "\n",
    "        for i in range(X.shape[1]):\n",
    "            currOut = self.fc(X[:,i,:])\n",
    "            out.append(currOut)\n",
    "        \n",
    "        out = torch.stack(out, dim=1).transpose(1,2)\n",
    "        \n",
    "        return out\n",
    "    \n",
    "    def training_step(self, batch, batch_idx):\n",
    "        coch, stFrames, frame0, material = batch\n",
    "        out = self(stFrames, frame0)\n",
    "        loss = VISLoss()(out, coch)\n",
    "        self.log('train_loss', loss, on_step=True, on_epoch=True, prog_bar=True, logger=True)\n",
    "        return loss\n",
    "\n",
    "    def validation_step(self, batch, batch_idx):\n",
    "        coch, stFrames, frame0, material = batch\n",
    "        out = self(stFrames, frame0)\n",
    "        loss = VISLoss()(out, coch)\n",
    "        self.log('val_loss', loss, on_step=True, on_epoch=True, prog_bar=True, logger=True)\n",
    "        return loss\n",
    "    \n",
    "    def configure_optimizers(self):\n",
    "        optimizer = optim.Adam(self.parameters(), lr=1e-3)\n",
    "        return optimizer"
   ]
  },
  {
   "cell_type": "code",
   "execution_count": 5,
   "metadata": {},
   "outputs": [
    {
     "name": "stderr",
     "output_type": "stream",
     "text": [
      "/home2/dhruv.kapur/anaconda3/envs/torch/lib/python3.9/site-packages/torchvision/models/_utils.py:135: UserWarning: Using 'weights' as positional parameter(s) is deprecated since 0.13 and may be removed in the future. Please use keyword parameter(s) instead.\n",
      "  warnings.warn(\n"
     ]
    }
   ],
   "source": [
    "model = VISTrivialModel(outputSize=42)"
   ]
  },
  {
   "cell_type": "code",
   "execution_count": 6,
   "metadata": {},
   "outputs": [
    {
     "name": "stderr",
     "output_type": "stream",
     "text": [
      "/home2/dhruv.kapur/anaconda3/envs/torch/lib/python3.9/site-packages/lightning_fabric/plugins/environments/slurm.py:166: PossibleUserWarning: The `srun` command is available on your system but is not used. HINT: If your intention is to run Lightning on SLURM, prepend your python command with `srun` like so: srun python /home2/dhruv.kapur/anaconda3/envs/torch/lib/python3. ...\n",
      "  rank_zero_warn(\n",
      "GPU available: True (cuda), used: True\n",
      "TPU available: False, using: 0 TPU cores\n",
      "IPU available: False, using: 0 IPUs\n",
      "HPU available: False, using: 0 HPUs\n",
      "/home2/dhruv.kapur/anaconda3/envs/torch/lib/python3.9/site-packages/pytorch_lightning/trainer/connectors/logger_connector/logger_connector.py:67: UserWarning: Starting from v1.9.0, `tensorboardX` has been removed as a dependency of the `pytorch_lightning` package, due to potential conflicts with other packages in the ML ecosystem. For this reason, `logger=True` will use `CSVLogger` as the default logger, unless the `tensorboard` or `tensorboardX` packages are found. Please `pip install lightning[extra]` or one of them to enable TensorBoard support by default\n",
      "  warning_cache.warn(\n"
     ]
    }
   ],
   "source": [
    "trainer = pl.Trainer(accelerator='gpu', devices=1, max_epochs=10)"
   ]
  },
  {
   "cell_type": "code",
   "execution_count": 7,
   "metadata": {},
   "outputs": [
    {
     "name": "stderr",
     "output_type": "stream",
     "text": [
      "LOCAL_RANK: 0 - CUDA_VISIBLE_DEVICES: [0]\n",
      "\n",
      "  | Name             | Type   | Params\n",
      "--------------------------------------------\n",
      "0 | featureExtractor | ResNet | 11.2 M\n",
      "1 | lstm             | LSTM   | 8.4 M \n",
      "2 | fc               | Linear | 43.1 K\n",
      "--------------------------------------------\n",
      "19.6 M    Trainable params\n",
      "0         Non-trainable params\n",
      "19.6 M    Total params\n",
      "78.465    Total estimated model params size (MB)\n"
     ]
    },
    {
     "data": {
      "application/vnd.jupyter.widget-view+json": {
       "model_id": "756985e4c2c54a78bf8eaabb52bdcc0d",
       "version_major": 2,
       "version_minor": 0
      },
      "text/plain": [
       "Sanity Checking: 0it [00:00, ?it/s]"
      ]
     },
     "metadata": {},
     "output_type": "display_data"
    },
    {
     "data": {
      "application/vnd.jupyter.widget-view+json": {
       "model_id": "9fa7de2f3e414dca9304960d2dab54eb",
       "version_major": 2,
       "version_minor": 0
      },
      "text/plain": [
       "Training: 0it [00:00, ?it/s]"
      ]
     },
     "metadata": {},
     "output_type": "display_data"
    },
    {
     "name": "stderr",
     "output_type": "stream",
     "text": [
      "/home2/dhruv.kapur/anaconda3/envs/torch/lib/python3.9/site-packages/pytorch_lightning/trainer/call.py:48: UserWarning: Detected KeyboardInterrupt, attempting graceful shutdown...\n",
      "  rank_zero_warn(\"Detected KeyboardInterrupt, attempting graceful shutdown...\")\n"
     ]
    }
   ],
   "source": [
    "trainer.fit(model, trainDataLoader, valDataLoader)"
   ]
  }
 ],
 "metadata": {
  "kernelspec": {
   "display_name": "torch",
   "language": "python",
   "name": "python3"
  },
  "language_info": {
   "codemirror_mode": {
    "name": "ipython",
    "version": 3
   },
   "file_extension": ".py",
   "mimetype": "text/x-python",
   "name": "python",
   "nbconvert_exporter": "python",
   "pygments_lexer": "ipython3",
   "version": "3.9.16"
  },
  "orig_nbformat": 4
 },
 "nbformat": 4,
 "nbformat_minor": 2
}
